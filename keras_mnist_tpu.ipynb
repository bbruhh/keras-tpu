{
 "cells": [
  {
   "cell_type": "markdown",
   "metadata": {},
   "source": [
    "# Keras MNIST TPU version\n",
    "\n",
    "The goal of this notebook is to show the basic usage of colab TPU."
   ]
  },
  {
   "cell_type": "code",
   "execution_count": 0,
   "metadata": {
    "colab": {},
    "colab_type": "code",
    "id": "GG5reo1JuH_D"
   },
   "outputs": [],
   "source": [
    "from __future__ import absolute_import\n",
    "from __future__ import division\n",
    "from __future__ import print_function\n",
    "\n",
    "import tensorflow as tf\n",
    "import numpy as np\n",
    "import os\n",
    "import pprint\n",
    "from tensorflow.keras.layers import Conv2D, Dense, MaxPooling2D, Dropout, Flatten"
   ]
  },
  {
   "cell_type": "markdown",
   "metadata": {
    "colab_type": "text",
    "id": "6CQmeTWusSOc"
   },
   "source": [
    "## Check device\n",
    "Make sure that we are really using a TPU. We can change the runtime type in `runtime` to `TPU` if the notebook is not connected to a TPU backend."
   ]
  },
  {
   "cell_type": "code",
   "execution_count": 2,
   "metadata": {
    "colab": {
     "base_uri": "https://localhost:8080/",
     "height": 252
    },
    "colab_type": "code",
    "id": "ut0oZeeB8I52",
    "outputId": "1739f0fd-5d9a-44a9-8f4f-60c373098bec"
   },
   "outputs": [
    {
     "name": "stdout",
     "output_type": "stream",
     "text": [
      "Found TPU at: grpc://10.65.70.10:8470\n",
      "TPU devices:\n",
      "[_DeviceAttributes(/job:tpu_worker/replica:0/task:0/device:CPU:0, CPU, -1, 4552836185190424279),\n",
      " _DeviceAttributes(/job:tpu_worker/replica:0/task:0/device:XLA_CPU:0, XLA_CPU, 17179869184, 16074493523987032821),\n",
      " _DeviceAttributes(/job:tpu_worker/replica:0/task:0/device:XLA_GPU:0, XLA_GPU, 17179869184, 8406393325839712748),\n",
      " _DeviceAttributes(/job:tpu_worker/replica:0/task:0/device:TPU:0, TPU, 17179869184, 7996198981334587940),\n",
      " _DeviceAttributes(/job:tpu_worker/replica:0/task:0/device:TPU:1, TPU, 17179869184, 3220244212352117603),\n",
      " _DeviceAttributes(/job:tpu_worker/replica:0/task:0/device:TPU:2, TPU, 17179869184, 10407558437934682077),\n",
      " _DeviceAttributes(/job:tpu_worker/replica:0/task:0/device:TPU:3, TPU, 17179869184, 16424903232580051683),\n",
      " _DeviceAttributes(/job:tpu_worker/replica:0/task:0/device:TPU:4, TPU, 17179869184, 17095809889331669049),\n",
      " _DeviceAttributes(/job:tpu_worker/replica:0/task:0/device:TPU:5, TPU, 17179869184, 13201864296841473368),\n",
      " _DeviceAttributes(/job:tpu_worker/replica:0/task:0/device:TPU:6, TPU, 17179869184, 179224648268340032),\n",
      " _DeviceAttributes(/job:tpu_worker/replica:0/task:0/device:TPU:7, TPU, 17179869184, 12779610467660111173),\n",
      " _DeviceAttributes(/job:tpu_worker/replica:0/task:0/device:TPU_SYSTEM:0, TPU_SYSTEM, 17179869184, 558249204806038247)]\n"
     ]
    }
   ],
   "source": [
    "try:\n",
    "  device_name = os.environ['COLAB_TPU_ADDR']\n",
    "  TPU_ADDRESS = 'grpc://' + device_name\n",
    "  print('Found TPU at: {}'.format(TPU_ADDRESS))\n",
    "  \n",
    "  with tf.Session(TPU_ADDRESS) as session:\n",
    "    devices = session.list_devices()\n",
    "    \n",
    "  print('TPU devices:')\n",
    "  pprint.pprint(devices)\n",
    "\n",
    "except KeyError:\n",
    "  print('TPU not found')"
   ]
  },
  {
   "cell_type": "code",
   "execution_count": 3,
   "metadata": {
    "colab": {
     "base_uri": "https://localhost:8080/",
     "height": 84
    },
    "colab_type": "code",
    "id": "5vMfnZrfuX9h",
    "outputId": "c5b36e29-024d-4b60-da62-823dd9b7b909"
   },
   "outputs": [
    {
     "name": "stdout",
     "output_type": "stream",
     "text": [
      "X_train original shape (60000, 28, 28)\n",
      "y_train original shape (60000,)\n",
      "60000 train samples\n",
      "10000 test samples\n"
     ]
    }
   ],
   "source": [
    "# Shuffled and split the data into train and test sets.\n",
    "(X_train, y_train), (X_test, y_test) = tf.keras.datasets.mnist.load_data()\n",
    "print('X_train original shape', X_train.shape)\n",
    "print('y_train original shape', y_train.shape)\n",
    "print(X_train.shape[0], 'train samples')\n",
    "print(X_test.shape[0], 'test samples')"
   ]
  },
  {
   "cell_type": "code",
   "execution_count": 0,
   "metadata": {
    "colab": {},
    "colab_type": "code",
    "id": "ljA-y4xruhFY"
   },
   "outputs": [],
   "source": [
    "X_train = X_train.reshape(60000, 28, 28, 1)\n",
    "X_test = X_test.reshape(10000, 28, 28, 1)\n",
    "X_train = X_train.astype('float32')\n",
    "X_test = X_test.astype('float32')\n",
    "X_train /= 255\n",
    "X_test /= 255"
   ]
  },
  {
   "cell_type": "code",
   "execution_count": 0,
   "metadata": {
    "colab": {},
    "colab_type": "code",
    "id": "cexHLe9jupAI"
   },
   "outputs": [],
   "source": [
    "model = tf.keras.models.Sequential()\n",
    "model.add(Conv2D(32, kernel_size=(3, 3),\n",
    "                 activation='relu',\n",
    "                 input_shape=(28, 28, 1)))\n",
    "model.add(Conv2D(64, (3, 3), activation='relu'))\n",
    "model.add(MaxPooling2D(pool_size=(2, 2)))\n",
    "model.add(Dropout(0.25))\n",
    "model.add(Flatten())\n",
    "model.add(Dense(128, activation='relu'))\n",
    "model.add(Dropout(0.5))\n",
    "model.add(Dense(10, activation='softmax'))"
   ]
  },
  {
   "cell_type": "code",
   "execution_count": 6,
   "metadata": {
    "colab": {
     "base_uri": "https://localhost:8080/",
     "height": 336
    },
    "colab_type": "code",
    "id": "2Zabgj9svEju",
    "outputId": "b516216a-dd81-4687-92d5-024ede80ca86"
   },
   "outputs": [
    {
     "name": "stdout",
     "output_type": "stream",
     "text": [
      "INFO:tensorflow:Querying Tensorflow master (b'grpc://10.65.70.10:8470') for TPU system metadata.\n",
      "INFO:tensorflow:Found TPU system:\n",
      "INFO:tensorflow:*** Num TPU Cores: 8\n",
      "INFO:tensorflow:*** Num TPU Workers: 1\n",
      "INFO:tensorflow:*** Num TPU Cores Per Worker: 8\n",
      "INFO:tensorflow:*** Available Device: _DeviceAttributes(/job:worker/replica:0/task:0/device:CPU:0, CPU, -1, 4552836185190424279)\n",
      "INFO:tensorflow:*** Available Device: _DeviceAttributes(/job:worker/replica:0/task:0/device:XLA_CPU:0, XLA_CPU, 17179869184, 16074493523987032821)\n",
      "INFO:tensorflow:*** Available Device: _DeviceAttributes(/job:worker/replica:0/task:0/device:XLA_GPU:0, XLA_GPU, 17179869184, 8406393325839712748)\n",
      "INFO:tensorflow:*** Available Device: _DeviceAttributes(/job:worker/replica:0/task:0/device:TPU:0, TPU, 17179869184, 7996198981334587940)\n",
      "INFO:tensorflow:*** Available Device: _DeviceAttributes(/job:worker/replica:0/task:0/device:TPU:1, TPU, 17179869184, 3220244212352117603)\n",
      "INFO:tensorflow:*** Available Device: _DeviceAttributes(/job:worker/replica:0/task:0/device:TPU:2, TPU, 17179869184, 10407558437934682077)\n",
      "INFO:tensorflow:*** Available Device: _DeviceAttributes(/job:worker/replica:0/task:0/device:TPU:3, TPU, 17179869184, 16424903232580051683)\n",
      "INFO:tensorflow:*** Available Device: _DeviceAttributes(/job:worker/replica:0/task:0/device:TPU:4, TPU, 17179869184, 17095809889331669049)\n",
      "INFO:tensorflow:*** Available Device: _DeviceAttributes(/job:worker/replica:0/task:0/device:TPU:5, TPU, 17179869184, 13201864296841473368)\n",
      "INFO:tensorflow:*** Available Device: _DeviceAttributes(/job:worker/replica:0/task:0/device:TPU:6, TPU, 17179869184, 179224648268340032)\n",
      "INFO:tensorflow:*** Available Device: _DeviceAttributes(/job:worker/replica:0/task:0/device:TPU:7, TPU, 17179869184, 12779610467660111173)\n",
      "INFO:tensorflow:*** Available Device: _DeviceAttributes(/job:worker/replica:0/task:0/device:TPU_SYSTEM:0, TPU_SYSTEM, 17179869184, 558249204806038247)\n",
      "WARNING:tensorflow:tpu_model (from tensorflow.contrib.tpu.python.tpu.keras_support) is experimental and may change or be removed at any time, and without warning.\n",
      "INFO:tensorflow:Connecting to: b'grpc://10.65.70.10:8470'\n"
     ]
    }
   ],
   "source": [
    "# It is almost the same as normal keras training, except we need to tranfer the model to a TPU.\n",
    "tpu_model = tf.contrib.tpu.keras_to_tpu_model(\n",
    "    model,\n",
    "    strategy=tf.contrib.tpu.TPUDistributionStrategy(\n",
    "        tf.contrib.cluster_resolver.TPUClusterResolver(tpu=TPU_ADDRESS)\n",
    "    )\n",
    ")\n",
    "tpu_model.compile(\n",
    "    optimizer=tf.train.AdamOptimizer(learning_rate=1e-3, ),\n",
    "    loss=tf.keras.losses.sparse_categorical_crossentropy,\n",
    "    metrics=['sparse_categorical_accuracy']\n",
    ")\n",
    "\n",
    "def train_gen(batch_size):\n",
    "  while True:\n",
    "    offset = np.random.randint(0, X_train.shape[0] - batch_size)\n",
    "    yield X_train[offset:offset+batch_size], y_train[offset:offset + batch_size]\n"
   ]
  },
  {
   "cell_type": "markdown",
   "metadata": {
    "colab_type": "text",
    "id": "i44mmXv3rLGG"
   },
   "source": [
    "## Train the model and time it"
   ]
  },
  {
   "cell_type": "code",
   "execution_count": 7,
   "metadata": {
    "colab": {
     "base_uri": "https://localhost:8080/",
     "height": 759
    },
    "colab_type": "code",
    "id": "lmMdEMWbwN3V",
    "outputId": "6bb7070b-b648-4e62-8d1b-4636a1819e23"
   },
   "outputs": [
    {
     "name": "stdout",
     "output_type": "stream",
     "text": [
      "Epoch 1/12\n",
      "INFO:tensorflow:New input shapes; (re-)compiling: mode=train, [TensorSpec(shape=(16, 28, 28, 1), dtype=tf.float32, name='conv2d_input0'), TensorSpec(shape=(16, 1), dtype=tf.float32, name='dense_1_target0')]\n",
      "INFO:tensorflow:Overriding default placeholder.\n",
      "INFO:tensorflow:Remapping placeholder for conv2d_input\n",
      "INFO:tensorflow:Started compiling\n",
      "INFO:tensorflow:Finished compiling. Time elapsed: 1.8830342292785645 secs\n",
      "INFO:tensorflow:Setting weights on TPU model.\n",
      " 99/100 [============================>.] - ETA: 0s - loss: 0.5770 - sparse_categorical_accuracy: 0.8283INFO:tensorflow:New input shapes; (re-)compiling: mode=eval, [TensorSpec(shape=(16, 28, 28, 1), dtype=tf.float32, name='conv2d_input0'), TensorSpec(shape=(16, 1), dtype=tf.float32, name='dense_1_target0')]\n",
      "INFO:tensorflow:Overriding default placeholder.\n",
      "INFO:tensorflow:Remapping placeholder for conv2d_input\n",
      "INFO:tensorflow:Started compiling\n",
      "INFO:tensorflow:Finished compiling. Time elapsed: 1.2138936519622803 secs\n",
      "INFO:tensorflow:New input shapes; (re-)compiling: mode=eval, [TensorSpec(shape=(2, 28, 28, 1), dtype=tf.float32, name='conv2d_input0'), TensorSpec(shape=(2, 1), dtype=tf.float32, name='dense_1_target0')]\n",
      "INFO:tensorflow:Overriding default placeholder.\n",
      "INFO:tensorflow:Remapping placeholder for conv2d_input\n",
      "INFO:tensorflow:Started compiling\n",
      "INFO:tensorflow:Finished compiling. Time elapsed: 0.648047924041748 secs\n",
      "100/100 [==============================] - 10s 100ms/step - loss: 0.5733 - sparse_categorical_accuracy: 0.8294 - val_loss: 0.1629 - val_sparse_categorical_accuracy: 0.9536\n",
      "Epoch 2/12\n",
      "100/100 [==============================] - 4s 43ms/step - loss: 0.2052 - sparse_categorical_accuracy: 0.9387 - val_loss: 0.1037 - val_sparse_categorical_accuracy: 0.9680\n",
      "Epoch 3/12\n",
      "100/100 [==============================] - 4s 42ms/step - loss: 0.1414 - sparse_categorical_accuracy: 0.9569 - val_loss: 0.0878 - val_sparse_categorical_accuracy: 0.9736\n",
      "Epoch 4/12\n",
      "100/100 [==============================] - 4s 44ms/step - loss: 0.1150 - sparse_categorical_accuracy: 0.9669 - val_loss: 0.0803 - val_sparse_categorical_accuracy: 0.9704\n",
      "Epoch 5/12\n",
      "100/100 [==============================] - 4s 42ms/step - loss: 0.1140 - sparse_categorical_accuracy: 0.9644 - val_loss: 0.0669 - val_sparse_categorical_accuracy: 0.9760\n",
      "Epoch 6/12\n",
      "100/100 [==============================] - 4s 42ms/step - loss: 0.1098 - sparse_categorical_accuracy: 0.9725 - val_loss: 0.0485 - val_sparse_categorical_accuracy: 0.9808\n",
      "Epoch 7/12\n",
      "100/100 [==============================] - 4s 42ms/step - loss: 0.0721 - sparse_categorical_accuracy: 0.9831 - val_loss: 0.0547 - val_sparse_categorical_accuracy: 0.9816\n",
      "Epoch 8/12\n",
      "100/100 [==============================] - 4s 43ms/step - loss: 0.0665 - sparse_categorical_accuracy: 0.9762 - val_loss: 0.0503 - val_sparse_categorical_accuracy: 0.9816\n",
      "Epoch 9/12\n",
      "100/100 [==============================] - 4s 42ms/step - loss: 0.0787 - sparse_categorical_accuracy: 0.9750 - val_loss: 0.0432 - val_sparse_categorical_accuracy: 0.9840\n",
      "Epoch 10/12\n",
      "100/100 [==============================] - 4s 43ms/step - loss: 0.0799 - sparse_categorical_accuracy: 0.9738 - val_loss: 0.0329 - val_sparse_categorical_accuracy: 0.9856\n",
      "Epoch 11/12\n",
      "100/100 [==============================] - 4s 43ms/step - loss: 0.0603 - sparse_categorical_accuracy: 0.9806 - val_loss: 0.0369 - val_sparse_categorical_accuracy: 0.9880\n",
      "Epoch 12/12\n",
      "100/100 [==============================] - 4s 42ms/step - loss: 0.0589 - sparse_categorical_accuracy: 0.9806 - val_loss: 0.0371 - val_sparse_categorical_accuracy: 0.9872\n",
      "CPU times: user 9.73 s, sys: 1.51 s, total: 11.2 s\n",
      "Wall time: 56.8 s\n"
     ]
    },
    {
     "data": {
      "text/plain": [
       "<tensorflow.python.keras.callbacks.History at 0x7fb235a71c50>"
      ]
     },
     "execution_count": 7,
     "metadata": {
      "tags": []
     },
     "output_type": "execute_result"
    }
   ],
   "source": [
    "%%time\n",
    "tpu_model.fit_generator(\n",
    "    train_gen(128),\n",
    "    epochs=12,\n",
    "    steps_per_epoch=100,\n",
    "    validation_data=(X_test, y_test),\n",
    ")"
   ]
  },
  {
   "cell_type": "markdown",
   "metadata": {
    "colab_type": "text",
    "id": "PXfrOIkbrRVu"
   },
   "source": [
    "Wall time for training is 56.8 seconds using GC-TPU\n",
    "- compare vs GC-<b>GPU</b> : https://colab.research.google.com/drive/1rawejJ21j-rN8HVG584hFFHkOrSzLCCy#scrollTo=cSkui8r5o8Hp\n",
    "- and vs GC-<b>CPU</b> : https://colab.research.google.com/drive/1btld1Qk3V57FdpyUKnzLe-oDKNh16kAk#scrollTo=xd0mDBYtqOjN\n"
   ]
  },
  {
   "cell_type": "markdown",
   "metadata": {
    "colab_type": "text",
    "id": "b36wA1EqKwi1"
   },
   "source": [
    "## Check out the performance"
   ]
  },
  {
   "cell_type": "code",
   "execution_count": 8,
   "metadata": {
    "colab": {
     "base_uri": "https://localhost:8080/",
     "height": 154
    },
    "colab_type": "code",
    "id": "47HXFv4gu0bN",
    "outputId": "72162236-48b5-4af6-9a44-2cec86f7227a"
   },
   "outputs": [
    {
     "name": "stdout",
     "output_type": "stream",
     "text": [
      "INFO:tensorflow:New input shapes; (re-)compiling: mode=eval, [TensorSpec(shape=(4, 28, 28, 1), dtype=tf.float32, name='conv2d_input0'), TensorSpec(shape=(4, 1), dtype=tf.float32, name='dense_1_target0')]\n",
      "INFO:tensorflow:Overriding default placeholder.\n",
      "INFO:tensorflow:Remapping placeholder for conv2d_input\n",
      "INFO:tensorflow:Started compiling\n",
      "INFO:tensorflow:Finished compiling. Time elapsed: 0.6608164310455322 secs\n",
      "Test loss: 0.052809363519754335\n",
      "Test accuracy: 0.9864\n"
     ]
    }
   ],
   "source": [
    "score = tpu_model.evaluate(X_test, y_test, verbose=0)\n",
    "print('Test loss:', score[0])\n",
    "print('Test accuracy:', score[1])"
   ]
  },
  {
   "cell_type": "code",
   "execution_count": 0,
   "metadata": {
    "colab": {},
    "colab_type": "code",
    "id": "2DXnhzp4sT03"
   },
   "outputs": [],
   "source": []
  }
 ],
 "metadata": {
  "accelerator": "TPU",
  "colab": {
   "collapsed_sections": [],
   "name": "keras-mnist-tpu.ipynb",
   "provenance": [],
   "version": "0.3.2"
  },
  "kernelspec": {
   "display_name": "Python 3",
   "language": "python",
   "name": "python3"
  },
  "language_info": {
   "codemirror_mode": {
    "name": "ipython",
    "version": 3
   },
   "file_extension": ".py",
   "mimetype": "text/x-python",
   "name": "python",
   "nbconvert_exporter": "python",
   "pygments_lexer": "ipython3",
   "version": "3.6.5"
  }
 },
 "nbformat": 4,
 "nbformat_minor": 1
}
